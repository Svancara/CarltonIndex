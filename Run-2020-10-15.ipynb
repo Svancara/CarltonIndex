{
 "cells": [
  {
   "cell_type": "markdown",
   "metadata": {},
   "source": [
    "## Results calculated on 2020-10-15\n",
    "\n",
    "### Input: \n",
    "\n",
    "1. Strategies included in the `providerCreditsPackages (pcp)` table. (Trading plans purchased.)\n",
    "    Strategies having at least 4 trades selected. See more below.\n",
    "2. \"Killing events\" from tables `systems_killed` and `systems_killed_soft` applied.\n",
    "3. Accounts equities for strategies downloaded from the `accountequity` table.\n",
    "4. Default commissions from the `totalComm` table subtracted from equities.\n",
    "\n",
    "\n",
    "- Strategies from `providerCreditsPackages` are selected using this condition:\n",
    "`pcp.package <> 'basic_trial' AND (pcp.disposition IS NULL OR pcp.disposition <> 'archivedTrial')`\n",
    "and a number of trades must be gretaer or equal to 4. (See Matthew's code `modern_historical_stats_worker.pl` on Slack.)\n",
    "\n",
    "- \"killing\" conditions are applied on the strategies set selected from the `pcp` table then.\n",
    "\n",
    "- Accounts eqities are converted to the daily periodicity including weekends.\n",
    "\n",
    "**We are using a rolling window of 210 days of returns over 30 days. It means we need at least 210 + 30 days long systems.**"
   ]
  },
  {
   "cell_type": "code",
   "execution_count": 2,
   "metadata": {},
   "outputs": [
    {
     "name": "stdout",
     "output_type": "stream",
     "text": [
      "[1] \"Initialization done\"\n"
     ]
    }
   ],
   "source": [
    "# Load packages and helper functions used in this description\n",
    "source(\"JupyterUtils.R\")\n",
    "\n",
    "MINIMUM_NEEDED_DAYS = 210\n",
    "REURNS_MONTHLY_DAYS = 30\n",
    "MIN_AGE = MINIMUM_NEEDED_DAYS + REURNS_MONTHLY_DAYS\n",
    "\n",
    "TODAY=\"2020-10-20\""
   ]
  },
  {
   "cell_type": "code",
   "execution_count": 13,
   "metadata": {},
   "outputs": [
    {
     "name": "stdout",
     "output_type": "stream",
     "text": [
      "--------- Some tables numbers ---------\n",
      "Strategies selected from `providerCreditsPackages` (min date = 2016-10-19 in the table): 27326\n",
      "Strategies selected from `providerCreditsPackages` having more than 4 trades: 6091\n",
      "Strategies in `systems_killed_soft` (min date = 2003-10-24 in the table): 50918 \n",
      "Strategies in `systems_killed` (min date = 2015-06-05 in the table): 13839 \n",
      "\n",
      "The oldest strategies on Collective2 are from 2003 so apparently,\n",
      " we should verify that the queries from the above tables starting in 2015 and 2016 do not skip some 'old good' strategies.\n",
      " Let's use strategies found in the `providerCreditsPackages` (C2 license fees paid) for now.\n",
      "\n",
      "After applying killing events to startegies in `providerCreditsPackages` having more than 4 trades (PCP4)\n",
      " we have the following numbers:\n",
      "\n",
      "PCP4 strategies avg life span: 204.3 days\n",
      "PCP4 strategies live at least MIN_AGE=240 days: 1318\n"
     ]
    }
   ],
   "source": [
    "# Let's do some data investigation\n",
    "\n",
    "tablesStats = c2DatabaseStats()\n",
    "\n",
    "cat(\"--------- Some tables numbers ---------\\n\")\n",
    "\n",
    "cat(sprintf(\"Strategies selected from `providerCreditsPackages` (min date = 2016-10-19 in the table): %d\\n\",tablesStats$systems_providerCreditsPackages))\n",
    "cat(sprintf(\"Strategies selected from `providerCreditsPackages` having more than 4 trades: %d\\n\",tablesStats$systems_pcp_ge_4_trades))\n",
    "cat(sprintf(\"Strategies in `systems_killed_soft` (min date = 2003-10-24 in the table): %d \\n\",tablesStats$systems_killed_soft))\n",
    "cat(sprintf(\"Strategies in `systems_killed` (min date = 2015-06-05 in the table): %d \\n\",tablesStats$systems_killed))\n",
    "\n",
    "cat(\"\\nThe oldest strategies on Collective2 are from 2003 so apparently,\\n\", \n",
    "    \"we should verify that the queries from the above tables starting in 2015 and 2016 do not skip some 'old good' strategies.\\n\",\n",
    "    \"Let's use strategies found in the `providerCreditsPackages` (C2 license fees paid) for now.\\n\\n\")\n",
    "\n",
    "cat(\"After applying killing events to strategies in `providerCreditsPackages` having more than 4 trades (PCP4)\\n we have the following numbers:\\n\\n\")\n",
    "\n",
    "cat(sprintf(\"PCP4 strategies avg life span: %.1f days\\n\",tablesStats$avg_life_span))\n",
    "cat(sprintf(\"PCP4 strategies live at least MIN_AGE=%d days: %d\\n\",MIN_AGE,tablesStats$live_ge_240_days))\n",
    "\n",
    "#print(\"The above numbers are So we are going to work with %d strategies today. We investigate them from they starting dates. But many of them are already killed today, on %s.\",tablesStats$live_ge_240_days,TODAY))\n",
    "#print(sprintf(\"So we are going to work with %d strategies today. We investigate them from they starting dates. But many of them are already killed today, on %s.\",tablesStats$live_ge_240_days,TODAY))"
   ]
  },
  {
   "cell_type": "code",
   "execution_count": 17,
   "metadata": {},
   "outputs": [
    {
     "name": "stdout",
     "output_type": "stream",
     "text": [
      "What PCP4 systems ages are?\n"
     ]
    },
    {
     "data": {
      "text/plain": [
       "   Min. 1st Qu.  Median    Mean 3rd Qu.    Max. \n",
       "  242.0   348.2   491.5   687.9   760.0  5719.0 "
      ]
     },
     "metadata": {},
     "output_type": "display_data"
    },
    {
     "data": {
      "image/png": "[encoded data removed]",
      "text/plain": [
       "Plot with title “Histogram of tablesStats$live_ge_240_days_ages”"
      ]
     },
     "metadata": {
      "image/png": {
       "height": 420,
       "width": 420
      }
     },
     "output_type": "display_data"
    }
   ],
   "source": [
    "cat(\"What PCP4 systems ages are?\\n\")\n",
    "summary(tablesStats$live_ge_240_days_ages)\n",
    "agesHistogram = hist(tablesStats$live_ge_240_days_ages,breaks=100)"
   ]
  },
  {
   "cell_type": "code",
   "execution_count": 31,
   "metadata": {},
   "outputs": [
    {
     "name": "stdout",
     "output_type": "stream",
     "text": [
      "[1] \"PCP4 systems 240 - 365 days old: 389\"\n",
      "[1] \"PCP4 systems 1-2 years old: 574\"\n",
      "[1] \"PCP4 systems more than 2 years old: 355\"\n"
     ]
    }
   ],
   "source": [
    "# Some PCP4 systems age details (ages > 240 already selected)\n",
    "ages = tablesStats$live_ge_240_days_ages\n",
    "maxOneYearOld = length(ages[ages <= 365])\n",
    "maxTwoYearsOld = length(ages[ages > 365 & ages <= 2*365])\n",
    "olderThanTwoYears = length(ages[ages > 2*365])\n",
    "print(sprintf(\"PCP4 systems %d - 365 days old: %.0f\",MIN_AGE, maxOneYearOld))\n",
    "print(sprintf(\"PCP4 systems 1-2 years old: %.0f\",maxTwoYearsOld))\n",
    "print(sprintf(\"PCP4 systems more than 2 years old: %.0f\",olderThanTwoYears))"
   ]
  },
  {
   "cell_type": "markdown",
   "metadata": {},
   "source": [
    "## Results calculated on 2020-10-15\n",
    "\n",
    "\n",
    "Here is the first result. It is sorted by ProformaReturns210 descending.\n",
    "\n",
    "(That \"Bond USA\" system crashed AFTER 2020-10-15. It means after I downloaded C2 data created this report.)\n",
    "\n",
    "<https://svancara.github.io/CarltonIndex/docs/results-2020-10-15.html>"
   ]
  },
  {
   "cell_type": "code",
   "execution_count": null,
   "metadata": {},
   "outputs": [],
   "source": []
  }
 ],
 "metadata": {
  "kernelspec": {
   "display_name": "R",
   "language": "R",
   "name": "ir"
  },
  "language_info": {
   "codemirror_mode": "r",
   "file_extension": ".r",
   "mimetype": "text/x-r-source",
   "name": "R",
   "pygments_lexer": "r",
   "version": "4.0.2"
  }
 },
 "nbformat": 4,
 "nbformat_minor": 4
}
